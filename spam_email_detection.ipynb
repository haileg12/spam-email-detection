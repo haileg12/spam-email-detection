{
  "cells": [
    {
      "cell_type": "markdown",
      "metadata": {
        "id": "view-in-github",
        "colab_type": "text"
      },
      "source": [
        "<a href=\"https://colab.research.google.com/github/haileg12/spam-email-detection/blob/main/spam_email_detection.ipynb\" target=\"_parent\"><img src=\"https://colab.research.google.com/assets/colab-badge.svg\" alt=\"Open In Colab\"/></a>"
      ]
    },
    {
      "cell_type": "code",
      "execution_count": null,
      "metadata": {
        "colab": {
          "base_uri": "https://localhost:8080/"
        },
        "id": "5PR5W9ZyqkIJ",
        "outputId": "3344001b-9d7b-4c1f-b27b-58d5995a8b49"
      },
      "outputs": [
        {
          "name": "stdout",
          "output_type": "stream",
          "text": [
            "Mounted at /content/drive\n"
          ]
        }
      ],
      "source": [
        "# Install streamlit library\n",
        "!pip install -q streamlit\n",
        "from google.colab import drive\n",
        "drive.mount('/content/drive')"
      ]
    },
    {
      "cell_type": "code",
      "execution_count": null,
      "metadata": {
        "colab": {
          "background_save": true,
          "base_uri": "https://localhost:8080/"
        },
        "id": "ZofyTADg0x1c",
        "outputId": "329e2de7-8803-4d3f-e5a9-3d2427b39dc5"
      },
      "outputs": [
        {
          "name": "stdout",
          "output_type": "stream",
          "text": [
            "  label                                               text\n",
            "0   ham  Go until jurong point, crazy.. Available only ...\n",
            "1   ham                      Ok lar... Joking wif u oni...\n",
            "2  spam  Free entry in 2 a wkly comp to win FA Cup fina...\n",
            "3   ham  U dun say so early hor... U c already then say...\n",
            "4   ham  Nah I don't think he goes to usf, he lives aro...\n",
            "(5572, 2)\n",
            "  label                                               text\n",
            "0   ham  Go until jurong point, crazy.. Available only ...\n",
            "1   ham                      Ok lar... Joking wif u oni...\n",
            "2  spam  Free entry in 2 a wkly comp to win FA Cup fina...\n",
            "3   ham  U dun say so early hor... U c already then say...\n",
            "4   ham  Nah I don't think he goes to usf, he lives aro...\n",
            "      label                                               text\n",
            "0  Not Spam  Go until jurong point, crazy.. Available only ...\n",
            "1  Not Spam                      Ok lar... Joking wif u oni...\n",
            "2      Spam  Free entry in 2 a wkly comp to win FA Cup fina...\n",
            "3  Not Spam  U dun say so early hor... U c already then say...\n",
            "4  Not Spam  Nah I don't think he goes to usf, he lives aro...\n",
            "Accuracy: 0.9825581395348837\n",
            "Prediction for the email 1: ['Spam']\n",
            "Prediction for the email 2: ['Spam']\n",
            "Prediction for the email 3: ['Not Spam']\n",
            "Prediction for the email 4: ['Spam']\n"
          ]
        }
      ],
      "source": [
        "# Import Libraries\n",
        "import string\n",
        "import numpy as np\n",
        "import pandas as pd\n",
        "from sklearn.model_selection import train_test_split\n",
        "from sklearn.feature_extraction.text import CountVectorizer # convert text to integer numbers\n",
        "import streamlit as st\n",
        "\n",
        "# Custom Naive Bayes Classifier\n",
        "class CustomNaiveBayes:\n",
        "    def __init__(self):\n",
        "          self.class_probs = {}\n",
        "          self.word_probs = {}\n",
        "          self.FRAC_SPAM_TEXTS = 0\n",
        "\n",
        "    def fit(self, X, y):\n",
        "        # Calculate class probabilities\n",
        "        self.class_probs = {label: np.mean(y == label) for label in np.unique(y)}\n",
        "\n",
        "        # Calculate word probabilities for each class\n",
        "        self.word_probs = {}\n",
        "        for label in self.class_probs:\n",
        "            # Select only the samples with the current label\n",
        "            X_label = X[y == label]\n",
        "            # Calculate word counts for this class\n",
        "            word_counts = np.sum(X_label, axis=0)\n",
        "            # Add Laplace smoothing (to avoid zero probabilities)\n",
        "            word_probs = (word_counts + 1) / (np.sum(word_counts) + len(word_counts))\n",
        "            self.word_probs[label] = word_probs\n",
        "    def predict(self, X):\n",
        "        predictions = []\n",
        "        for x in X:\n",
        "            # Calculate log probabilities\n",
        "            log_probs = {}\n",
        "            for label in self.class_probs:\n",
        "                # Calculate the log probability of the current class\n",
        "                log_prob = np.log(self.class_probs[label])\n",
        "                # Multiply by the log probability of each word\n",
        "                log_prob += np.sum(np.log(self.word_probs[label]) * x)\n",
        "                log_probs[label] = log_prob\n",
        "            # Choose the class with the highest probability\n",
        "            predictions.append(max(log_probs, key=log_probs.get))\n",
        "        return predictions\n",
        "\n",
        "# def train_test_model(data_path):\n",
        "#     # Data Loading and Preprocessing\n",
        "#     data = pd.read_csv(data_path)\n",
        "#     data.drop_duplicates(inplace=True)\n",
        "#     data['label'] = data['label'].replace(['ham','spam'],['Not Spam','Spam'])\n",
        "#     data['label'] = data['label'].replace([0,1],['Not Spam','Spam'])\n",
        "#     mess = data['text']\n",
        "#     cat = data['label']\n",
        "\n",
        "#     # Split data into input and labels\n",
        "#     x_train, x_test, y_train, y_test = train_test_split(mess, cat, test_size=0.2)\n",
        "\n",
        "#     # Convert text data to numerical data\n",
        "#     cv = CountVectorizer(stop_words='english')\n",
        "#     x_train_count = cv.fit_transform(x_train)\n",
        "\n",
        "#      # Train model\n",
        "#     model = CustomNaiveBayes()\n",
        "#     model.fit(x_train_count.toarray(), y_train)\n",
        "\n",
        "#     # Test model\n",
        "#     features_test = cv.transform(x_test)\n",
        "#     y_pred = model.predict(features_test.toarray())\n",
        "\n",
        "#     # Display confusion matrix\n",
        "#     cm = confusion_matrix(y_test, y_pred)\n",
        "#     sns.heatmap(cm, annot=True, fmt='d', cmap='Blues')\n",
        "#     plt.xlabel('Predicted')\n",
        "#     plt.ylabel('Actual')\n",
        "#     plt.title('Confusion Matrix')\n",
        "#     plt.show()\n",
        "\n",
        "# # Paths to datasets\n",
        "# dataset_paths = [\n",
        "#     \"/content/drive/Shareddrives/164 Project 2024/dataset1.csv\",\n",
        "#     \"/content/drive/Shareddrives/164 Project 2024/dataset2.csv\",\n",
        "#     \"/content/drive/Shareddrives/164 Project 2024/dataset3.csv\"\n",
        "# ]\n",
        "\n",
        "# # Train and test model for each dataset\n",
        "# for path in dataset_paths:\n",
        "#     train_test_model(path)\n",
        "\n",
        "\n",
        "\n",
        "# Data Loading and Preprocessing\n",
        "# Dataset 1\n",
        "#data = pd.read_csv(\"/data/dataset1.csv\")\n",
        "\n",
        "# Dataset 2\n",
        "#data = pd.read_csv(\"/data/dataset2.csv\")\n",
        "\n",
        "# Dataset 3\n",
        "data = pd.read_csv(\"/data/dataset3.csv\")\n",
        "\n",
        "\n",
        "print(data.head()) #prints first 5 items in file\n",
        "print(data.shape) # prints how many rows and columns\n",
        "\n",
        "data.drop_duplicates(inplace=True) # deleting duplicates from the datasets, and to modify original dataset, not create a new one\n",
        "#print(data.shape) # prints the row and cols\n",
        "#print(data.isnull().sum()) # list # of null values in data set\n",
        "\n",
        "print(data.head())\n",
        "# change \"ham\" value to \"not spam\" in dataset\n",
        "data['label'] = data['label'].replace(['ham','spam'],['Not Spam','Spam'])\n",
        "data['label'] = data['label'].replace([0,1],['Not Spam','Spam'])\n",
        "# and spam to Spam\n",
        "print(data.head()) # print first 5\n",
        "\n",
        "\n",
        "# Split data into input and labels\n",
        "mess = data['text']\n",
        "cat = data['label']\n",
        "\n",
        "# 80 percent train and 20 percent test ## COMBINED HAILE & DALVIR CODE\n",
        "(x_train, x_test, y_train, y_test) = train_test_split(mess, cat, test_size=0.2)\n",
        "\n",
        "# Need to convert string data to decimal data to feed into model\n",
        "cv = CountVectorizer(stop_words='english') # repeated words filtered from the data (and, or, the)\n",
        "x_train_count = cv.fit_transform(x_train) # converting training data into numerical data\n",
        "\n",
        "\n",
        "# Model\n",
        "model = CustomNaiveBayes()\n",
        "model.fit(x_train_count.toarray(), y_train)\n",
        "\n",
        "\n",
        "# Test model\n",
        "features_test = cv.transform(x_test)\n",
        "accuracy = np.mean(model.predict(features_test.toarray()) == y_test)\n",
        "\n",
        "\n",
        "# Preprocess the email text\n",
        "def preprocess_email(email_text):\n",
        "    # Lowercase the text and remove punctuation\n",
        "    processed_email = email_text.lower().translate(str.maketrans('', '', string.punctuation))\n",
        "    return processed_email\n",
        "\n",
        "\n",
        "# Print accuracy\n",
        "print(\"Accuracy:\", accuracy)\n",
        "\n",
        "# Example email text\n",
        "example_email = \"Congratulations! You've won a free vacation. Click here to claim your prize.\"\n",
        "# Preprocess the example email text\n",
        "processed_email = preprocess_email(example_email)\n",
        "# Convert the preprocessed email text into numerical data\n",
        "email_count = cv.transform([processed_email]).toarray()\n",
        "email2 = 'URGENT: Your account needs verification. Click the link to avoid suspension.\"'\n",
        "# Preprocess the example email text\n",
        "processed_email = preprocess_email(email2)\n",
        "# Convert the preprocessed email text into numerical data\n",
        "email2_count = cv.transform([processed_email]).toarray()\n",
        "email3 = 'We are delighted to extend a personal invitation to you for an exclusive networking event hosted by Harriet Union Inc. on April 24th at Golden Palace. This event brings together top industry leaders and influencers for an evening of insightful discussions, valuable connections, and gourmet dining'\n",
        "# Preprocess the example email text\n",
        "processed_email = preprocess_email(email3)\n",
        "# Convert the preprocessed email text into numerical data\n",
        "email3_count = cv.transform([processed_email]).toarray()\n",
        "email4 = \"Subject: Elevate Your Lifestyle with Exclusive Offerings! Dear esteemed guest, As a distinguished individual of refined taste, you're invited to indulge in a world of unparalleled luxury. From exquisite timepieces to lavish experiences, our curated selection awaits you. Access bespoke concierge services and redefine opulence today. Reply for more details.\"\n",
        "processed_email = preprocess_email(email4)\n",
        "email4_count = cv.transform([processed_email]).toarray()\n",
        "\n",
        "# Run prediction\n",
        "prediction = model.predict(email_count)\n",
        "print(\"Prediction for the email 1:\", prediction)\n",
        "prediction = model.predict(email2_count)\n",
        "print(\"Prediction for the email 2:\", prediction)\n",
        "prediction = model.predict(email3_count)\n",
        "print(\"Prediction for the email 3:\", prediction)\n",
        "prediction = model.predict(email4_count)\n",
        "print(\"Prediction for the email 4:\", prediction)\n",
        "\n",
        "# Using streamlit for user interaction\n",
        "st.title(\"Spam Detection\")\n",
        "\n",
        "email_input = st.text_area(\"Enter your message here:\")\n",
        "\n",
        "if st.button(\"Validate\"):\n",
        "    if email_input:\n",
        "        # Preprocess the input email\n",
        "        processed_email = preprocess_email(email_input)\n",
        "        # Convert the preprocessed email text into numerical data\n",
        "        email_count = cv.transform([processed_email]).toarray()\n",
        "        # Run prediction\n",
        "        prediction = model.predict(email_count)\n",
        "        if prediction[0] == \"Spam\":\n",
        "          st.write(\"This is spam.\")\n",
        "        else:\n",
        "          st.write(\"This is not spam.\")\n",
        "    else:\n",
        "        st.warning(\"Please enter an email text.\")\n"
      ]
    },
    {
      "cell_type": "code",
      "execution_count": null,
      "metadata": {
        "colab": {
          "background_save": true,
          "base_uri": "https://localhost:8080/"
        },
        "id": "DJigt4aJMiQa",
        "outputId": "95c3383a-9ff4-485b-9de2-fd039f6b971a"
      },
      "outputs": [
        {
          "name": "stdout",
          "output_type": "stream",
          "text": [
            "Prediction for the email 1: ['Not Spam']\n",
            "Prediction for the email 2: ['Spam']\n",
            "Prediction for the email 3: ['Not Spam']\n",
            "Prediction for the email 4: ['Not Spam']\n"
          ]
        }
      ],
      "source": [
        "# Example email text\n",
        "example_email = \"Hi, Just a friendly reminder about our upcoming team meeting scheduled for [Date] at [Time]. We'll be discussing [Agenda]. Please make sure to attend on time. Thanks.\"\n",
        "# Preprocess the example email text\n",
        "processed_email = preprocess_email(example_email)\n",
        "# Convert the preprocessed email text into numerical data\n",
        "email_count = cv.transform([processed_email]).toarray()\n",
        "email2 = \"Hi, Thank you for your recent purchase from Macy's. Your order #[Order Number] has been confirmed. You can expect delivery within 3-5pm .If you have any questions or concerns, feel free to contact our customer support team. Regards, Youth Team\"\n",
        "# Preprocess the example email text\n",
        "processed_email = preprocess_email(email2)\n",
        "# Convert the preprocessed email text into numerical data\n",
        "email2_count = cv.transform([processed_email]).toarray()\n",
        "email3 = \"Hi Lisa, You're invited to join us at our networking event on Tuesday at 2pm at Rida Palace. This event is an excellent opportunity to connect with industry professionals and expand your network. Please RSVP by Monday. We look forward to seeing you there! Best regards, Ocean Waters Inc.\"\n",
        "# Preprocess the example email text\n",
        "processed_email = preprocess_email(email3)\n",
        "# Convert the preprocessed email text into numerical data\n",
        "email3_count = cv.transform([processed_email]).toarray()\n",
        "email4 = \"Subject: Update from Grandma Hi Jim, I hope this email finds you well. I just wanted to check in and see how you're doing. It's been a while since we last caught up, and I've been thinking about you a lot lately. Things have been pretty busy on my end. I've been spending more time in the garden, and the flowers are starting to bloom beautifully. I also recently tried out a new recipe for apple pie, and it turned out delicious! I wish I could share a slice with you. Speaking of which, I was thinking it's been too long since we had a family get-together. How about we plan something for next month? Maybe a barbecue at the park or a picnic by the lake? Let me know what you think. Anyway, I just wanted to say hello and send you some love. Take care of yourself, and don't hesitate to reach out if you need anything. Sending hugs, Granny Joe\"\n",
        "processed_email = preprocess_email(email4)\n",
        "email4_count = cv.transform([processed_email]).toarray()\n",
        "\n",
        "# Run prediction\n",
        "prediction = model.predict(email_count)\n",
        "print(\"Prediction for the email 1:\", prediction)\n",
        "prediction = model.predict(email2_count)\n",
        "print(\"Prediction for the email 2:\", prediction)\n",
        "prediction = model.predict(email3_count)\n",
        "print(\"Prediction for the email 3:\", prediction)\n",
        "prediction = model.predict(email4_count)\n",
        "print(\"Prediction for the email 4:\", prediction)\n"
      ]
    },
    {
      "cell_type": "code",
      "execution_count": null,
      "metadata": {
        "colab": {
          "base_uri": "https://localhost:8080/"
        },
        "id": "g8GeuraGEH0K",
        "outputId": "a6305df8-db51-4bda-b5ee-b6cabe068842"
      },
      "outputs": [
        {
          "name": "stdout",
          "output_type": "stream",
          "text": [
            "\n",
            "Collecting usage statistics. To deactivate, set browser.gatherUsageStats to false.\n",
            "\u001b[0m\n",
            "\u001b[0m\n",
            "\u001b[34m\u001b[1m  You can now view your Streamlit app in your browser.\u001b[0m\n",
            "\u001b[0m\n",
            "\u001b[34m  Network URL: \u001b[0m\u001b[1mhttp://172.28.0.12:8501\u001b[0m\n",
            "\u001b[34m  External URL: \u001b[0m\u001b[1mhttp://34.73.21.15:8501\u001b[0m\n",
            "\u001b[0m\n",
            "\u001b[34m  Stopping...\u001b[0m\n",
            "^C\n"
          ]
        }
      ],
      "source": [
        "!streamlit run /usr/local/lib/python3.10/dist-packages/colab_kernel_launcher.py [ARGUMENTS]"
      ]
    },
    {
      "cell_type": "markdown",
      "metadata": {
        "id": "FnK9z1PjWHFN"
      },
      "source": [
        "# Results and Datasets"
      ]
    },
    {
      "cell_type": "markdown",
      "metadata": {
        "id": "HbPYYWvfhTv2"
      },
      "source": [
        "Tested Files:\n",
        "\n",
        "Dataset 1: https://www.kaggle.com/datasets/abdmental01/email-spam-dedection?resource=download\n",
        "\n",
        "**Accuracy: 0.9903100775193798**\n",
        "\n",
        "Accuracy: 0.9777131782945736\n",
        "\n",
        "Accuracy: 0.9835271317829457\n",
        "\n",
        "Tested on new model:\n",
        "\n",
        "Dataset 2 https://www.kaggle.com/datasets/venky73/spam-mails-dataset/data\n",
        "\n",
        "**Accuracy: 0.977977977977978**\n",
        "\n",
        "Accuracy: 0.974974974974975\n",
        "\n",
        "Accuracy: 0.982982982982983\n",
        "\n",
        "New Datasets to test on (spam/not spam):\n",
        "\n",
        "Dataset 3: https://www.kaggle.com/datasets/jackksoncsie/spam-email-dataset\n",
        "\n",
        "Accuracy: 0.9894644424934153\n",
        "\n",
        "**Accuracy: 0.9929762949956101**\n",
        "\n",
        "Accuracy: 0.9920983318700615\n",
        "\n",
        "Phishing emails try to run on it:\n",
        "https://www.kaggle.com/datasets/subhajournal/phishingemails\n",
        "\n",
        "Another kaggle model to test again (if time):\n",
        "https://www.kaggle.com/code/mfaisalqureshi/email-spam-detection-98-accuracy"
      ]
    },
    {
      "cell_type": "code",
      "execution_count": null,
      "metadata": {
        "colab": {
          "base_uri": "https://localhost:8080/",
          "height": 743
        },
        "id": "jp01pyVW7Fm9",
        "outputId": "2e7f9e4a-f598-405f-b5c4-d581b3ca5eb5"
      },
      "outputs": [
        {
          "name": "stdout",
          "output_type": "stream",
          "text": [
            "     Dataset    Run  Accuracy\n",
            "0  Dataset 1  Run 1  0.977132\n",
            "1  Dataset 1  Run 2  0.990310\n",
            "2  Dataset 1  Run 3  0.983527\n",
            "3  Dataset 2  Run 1  0.977978\n",
            "4  Dataset 2  Run 2  0.974975\n",
            "5  Dataset 2  Run 3  0.982983\n",
            "6  Dataset 3  Run 1  0.989464\n",
            "7  Dataset 3  Run 2  0.992976\n",
            "8  Dataset 3  Run 3  0.992098\n"
          ]
        },
        {
          "data": {
            "image/png": "[encoded data removed]",
            "text/plain": [
              "<Figure size 800x600 with 2 Axes>"
            ]
          },
          "metadata": {},
          "output_type": "display_data"
        }
      ],
      "source": [
        "from sklearn.metrics import confusion_matrix\n",
        "import seaborn as sns\n",
        "import matplotlib.pyplot as plt\n",
        "\n",
        "# Example results (replace with your actual results)\n",
        "results = {\n",
        "    'Dataset': ['Dataset 1'] * 3 + ['Dataset 2'] * 3 + ['Dataset 3'] * 3,\n",
        "    'Run': ['Run 1', 'Run 2', 'Run 3'] * 3,\n",
        "    'Accuracy': [0.977131782945736, 0.9903100775193798, 0.9835271317829457,  0.977977977977978, 0.974974974974975, 0.982982982982983, 0.9894644424934153, 0.9929762949956101, 0.9920983318700615],\n",
        "    # Add more metrics as needed\n",
        "}\n",
        "\n",
        "# Create DataFrame\n",
        "df = pd.DataFrame(results)\n",
        "\n",
        "# Display DataFrame\n",
        "print(df)\n",
        "\n",
        "# Get predictions for the test set\n",
        "predictions_test = model.predict(features_test.toarray())\n",
        "\n",
        "# Create confusion matrix\n",
        "conf_matrix = confusion_matrix(y_test, predictions_test)\n",
        "\n",
        "\n",
        "# Plot confusion matrix\n",
        "plt.figure(figsize=(8, 6))\n",
        "sns.heatmap(conf_matrix, annot=True, fmt='d', cmap='Greens', xticklabels=['Not Spam', 'Spam'], yticklabels=['Not Spam', 'Spam'])\n",
        "plt.xlabel('Predicted Labels')\n",
        "plt.ylabel('True Labels')\n",
        "plt.title('Confusion Matrix: Dataset 3')\n",
        "plt.show()\n"
      ]
    },
    {
      "cell_type": "markdown",
      "metadata": {
        "id": "sr-AP4yrXxIE"
      },
      "source": [
        " POTENTIAL PLANS IN THE FUTURE:\n",
        "\n",
        "1. **Data Augmentation**: Expand the dataset by introducing variations of existing spam and legitimate emails. This can involve modifying the text slightly, adding noise, or using techniques like back-translation for generating synthetic data.\n",
        "\n",
        "3. **Advanced Algorithms**: Experiment with more sophisticated machine learning algorithms or neural network architectures. Techniques like deep learning, ensemble methods, or gradient boosting can potentially improve classification performance.\n",
        "\n",
        "5. **Cross-Validation**: Implement cross-validation techniques to better assess the model's generalization performance. This involves splitting the data into multiple subsets for training and testing to ensure the model is robust across different samples.\n",
        "\n",
        "8. **Regularization**: Apply regularization techniques to prevent overfitting and improve the model's generalization ability. Techniques like dropout, L1/L2 regularization, or early stopping can help prevent the model from memorizing noise in the training data.\n",
        "\n",
        "10. **Feedback Loop**: Implement a feedback mechanism where the model learns from misclassifications and user feedback. This can involve retraining the model periodically with new labeled data to adapt to evolving spamming techniques.\n"
      ]
    }
  ],
  "metadata": {
    "colab": {
      "provenance": [],
      "include_colab_link": true
    },
    "kernelspec": {
      "display_name": "Python 3",
      "name": "python3"
    },
    "language_info": {
      "name": "python"
    }
  },
  "nbformat": 4,
  "nbformat_minor": 0
}